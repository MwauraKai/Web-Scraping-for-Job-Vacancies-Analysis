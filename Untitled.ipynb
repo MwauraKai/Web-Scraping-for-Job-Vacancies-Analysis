{
 "cells": [
  {
   "cell_type": "code",
   "execution_count": 2,
   "id": "abc19c43-2925-4138-b4d1-5d2966e2340c",
   "metadata": {},
   "outputs": [],
   "source": [
    "import time\n",
    "from selenium import webdriver\n",
    "from selenium.webdriver.chrome.options import Options\n",
    "from bs4 import BeautifulSoup\n",
    "\n",
    "# Set up Chrome options\n",
    "chrome_options = Options()\n",
    "chrome_options.add_argument('--headless')  # Run Chrome in headless mode (no GUI)\n",
    "chrome_options.add_argument('--disable-gpu')  # Disable GPU acceleration for headless mode\n",
    "chrome_options.add_argument('--user-agent=Mozilla/5.0 (Windows NT 10.0; Win64; x64) AppleWebKit/537.36 (KHTML, like Gecko) Chrome/91.0.4472.124 Safari/537.36 Brave/91.1.25.68')\n",
    "\n",
    "# Create a new instance of the Chrome driver\n",
    "driver = webdriver.Chrome(options=chrome_options)\n",
    "\n",
    "# The URL of the LinkedIn job postings page\n",
    "url = \"https://www.linkedin.com/jobs/\"\n",
    "\n",
    "# Send a GET request using Selenium and set the User-Agent header\n",
    "driver.get(url)\n",
    "time.sleep(2)  # Wait for the page to load (adjust as needed)\n",
    "\n",
    "# Extract the page source\n",
    "page_source = driver.page_source\n",
    "\n",
    "# Parse the HTML content using BeautifulSoup\n",
    "soup = BeautifulSoup(page_source, \"html.parser\")\n",
    "\n",
    "# Identify the job posting elements based on your inspection\n",
    "job_postings = soup.find_all(\"li\", class_=\"jobs-search-results__list-item\")\n",
    "\n",
    "# Extract information from each job posting\n",
    "for job_posting in job_postings:\n",
    "    job_title = job_posting.find(\"span\", class_=\"screen-reader-text\").text.strip()\n",
    "    company_name = job_posting.find(\"a\", class_=\"job-card-container__company-name\").text.strip()\n",
    "\n",
    "    # Print the extracted information\n",
    "    print(f\"Job Title: {job_title}\")\n",
    "    print(f\"Company: {company_name}\")\n",
    "    print(\"-\" * 30)\n",
    "\n",
    "# Close the browser\n",
    "driver.quit()\n"
   ]
  },
  {
   "cell_type": "code",
   "execution_count": null,
   "id": "81e04d0a-b481-4042-8248-860b52646075",
   "metadata": {},
   "outputs": [],
   "source": []
  },
  {
   "cell_type": "code",
   "execution_count": null,
   "id": "e5c40347-02d2-4f07-b19d-7c1e71c6b69d",
   "metadata": {},
   "outputs": [],
   "source": []
  }
 ],
 "metadata": {
  "kernelspec": {
   "display_name": "Python 3 (ipykernel)",
   "language": "python",
   "name": "python3"
  },
  "language_info": {
   "codemirror_mode": {
    "name": "ipython",
    "version": 3
   },
   "file_extension": ".py",
   "mimetype": "text/x-python",
   "name": "python",
   "nbconvert_exporter": "python",
   "pygments_lexer": "ipython3",
   "version": "3.12.0"
  }
 },
 "nbformat": 4,
 "nbformat_minor": 5
}
